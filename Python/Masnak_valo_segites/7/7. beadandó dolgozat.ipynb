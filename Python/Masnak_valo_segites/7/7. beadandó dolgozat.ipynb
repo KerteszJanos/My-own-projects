{
 "cells": [
  {
   "cell_type": "code",
   "execution_count": 1,
   "id": "5f37230f",
   "metadata": {},
   "outputs": [],
   "source": [
    "# Minimum feladat:"
   ]
  },
  {
   "cell_type": "code",
   "execution_count": 8,
   "id": "bbac6de0",
   "metadata": {},
   "outputs": [
    {
     "name": "stdout",
     "output_type": "stream",
     "text": [
      "Collecting pulp\n",
      "  Obtaining dependency information for pulp from https://files.pythonhosted.org/packages/09/d7/57e71e11108203039c895643368c0d1a99fe719a6a80184edf240c33d25f/PuLP-2.8.0-py3-none-any.whl.metadata\n",
      "  Downloading PuLP-2.8.0-py3-none-any.whl.metadata (5.4 kB)\n",
      "Downloading PuLP-2.8.0-py3-none-any.whl (17.7 MB)\n",
      "\u001b[2K   \u001b[90m━━━━━━━━━━━━━━━━━━━━━━━━━━━━━━━━━━━━━━━━\u001b[0m \u001b[32m17.7/17.7 MB\u001b[0m \u001b[31m15.2 MB/s\u001b[0m eta \u001b[36m0:00:00\u001b[0m00:01\u001b[0m00:01\u001b[0m\n",
      "\u001b[?25hInstalling collected packages: pulp\n",
      "Successfully installed pulp-2.8.0\n",
      "Note: you may need to restart the kernel to use updated packages.\n"
     ]
    }
   ],
   "source": [
    "pip install pulp"
   ]
  },
  {
   "cell_type": "code",
   "execution_count": 9,
   "id": "fa96c1ab",
   "metadata": {},
   "outputs": [],
   "source": [
    "from pulp import LpProblem, LpVariable, lpSum, LpMinimize"
   ]
  },
  {
   "cell_type": "code",
   "execution_count": 15,
   "id": "144de43a",
   "metadata": {},
   "outputs": [
    {
     "name": "stdout",
     "output_type": "stream",
     "text": [
      "Welcome to the CBC MILP Solver \n",
      "Version: 2.10.3 \n",
      "Build Date: Dec 15 2019 \n",
      "\n",
      "command line - /Users/kertesznoi/anaconda3/lib/python3.11/site-packages/pulp/solverdir/cbc/osx/64/cbc /var/folders/q3/m9qngvh53ws46pc8g2rcdt9c0000gn/T/04a75164b9c04524b69394433d5d03c5-pulp.mps -timeMode elapsed -branch -printingOptions all -solution /var/folders/q3/m9qngvh53ws46pc8g2rcdt9c0000gn/T/04a75164b9c04524b69394433d5d03c5-pulp.sol (default strategy 1)\n",
      "At line 2 NAME          MODEL\n",
      "At line 3 ROWS\n",
      "At line 7 COLUMNS\n",
      "At line 14 RHS\n",
      "At line 17 BOUNDS\n",
      "At line 18 ENDATA\n",
      "Problem MODEL has 2 rows, 2 columns and 4 elements\n",
      "Coin0008I MODEL read with 0 errors\n",
      "Option for timeMode changed from cpu to elapsed\n",
      "Presolve 2 (0) rows, 2 (0) columns and 4 (0) elements\n",
      "0  Obj 0 Primal inf 42.832816 (2)\n",
      "2  Obj 108\n",
      "Optimal - objective value 108\n",
      "Optimal objective 108 - 2 iterations time 0.002\n",
      "Option for printingOptions changed from normal to all\n",
      "Total time (CPU seconds):       0.00   (Wallclock seconds):       0.00\n",
      "\n",
      "Megoldás:\n",
      "Kukoricadara mennyisége: 11.0 kg\n",
      "Halliszt mennyisége: 5.0 kg\n",
      "Költség: 108.0 Ft\n"
     ]
    }
   ],
   "source": [
    "prob = LpProblem(\"Takarmánykeverék\", LpMinimize)\n",
    "\n",
    "x1 = LpVariable(\"Kukoricadara_kg\", lowBound=0)\n",
    "x2 = LpVariable(\"Halliszt_kg\", lowBound=0)\n",
    "\n",
    "prob += 8*x1 + 4*x2\n",
    "\n",
    "prob += 10*x1 + 2*x2 >= 120\n",
    "prob += 5*x1 + 5*x2 >= 80\n",
    "\n",
    "prob.solve()\n",
    "\n",
    "print(\"Megoldás:\")\n",
    "print(\"Kukoricadara mennyisége: {} kg\".format(x1.varValue))\n",
    "print(\"Halliszt mennyisége: {} kg\".format(x2.varValue))\n",
    "print(\"Költség: {} Ft\".format(prob.objective.value()))"
   ]
  },
  {
   "cell_type": "code",
   "execution_count": 12,
   "id": "d893c290",
   "metadata": {},
   "outputs": [],
   "source": [
    "# Befektetési feladat:"
   ]
  },
  {
   "cell_type": "code",
   "execution_count": 17,
   "id": "e86bb0b3",
   "metadata": {},
   "outputs": [
    {
     "name": "stdout",
     "output_type": "stream",
     "text": [
      "Welcome to the CBC MILP Solver \n",
      "Version: 2.10.3 \n",
      "Build Date: Dec 15 2019 \n",
      "\n",
      "command line - /Users/kertesznoi/anaconda3/lib/python3.11/site-packages/pulp/solverdir/cbc/osx/64/cbc /var/folders/q3/m9qngvh53ws46pc8g2rcdt9c0000gn/T/55ae0572a77a4e73acfa8fdff877468a-pulp.mps -max -timeMode elapsed -branch -printingOptions all -solution /var/folders/q3/m9qngvh53ws46pc8g2rcdt9c0000gn/T/55ae0572a77a4e73acfa8fdff877468a-pulp.sol (default strategy 1)\n",
      "At line 2 NAME          MODEL\n",
      "At line 3 ROWS\n",
      "At line 10 COLUMNS\n",
      "At line 47 RHS\n",
      "At line 53 BOUNDS\n",
      "At line 54 ENDATA\n",
      "Problem MODEL has 5 rows, 12 columns and 24 elements\n",
      "Coin0008I MODEL read with 0 errors\n",
      "Option for timeMode changed from cpu to elapsed\n",
      "Presolve determined that the problem was infeasible with tolerance of 1e-08\n",
      "Analysis indicates model infeasible or unbounded\n",
      "0  Obj -0 Primal inf 14 (5) Dual inf 138.9 (12)\n",
      "0  Obj -0 Primal inf 14 (5) Dual inf 2.4e+11 (12)\n",
      "4  Obj 192 Primal inf 5.9999999 (1)\n",
      "4  Obj 192 Primal inf 5.9999999 (1)\n",
      "4  Obj 192 Primal inf 5.9999999 (1)\n",
      "4  Obj 192 Primal inf 5.9999999 (1)\n",
      "4  Obj 192 Primal inf 5.9999999 (1)\n",
      "4  Obj 192 Primal inf 5.9999999 (1)\n",
      "Primal infeasible - objective value 192\n",
      "PrimalInfeasible objective 192 - 4 iterations time 0.002\n",
      "\n",
      "Result - Linear relaxation infeasible\n",
      "\n",
      "Enumerated nodes:           0\n",
      "Total iterations:           0\n",
      "Time (CPU seconds):         0.00\n",
      "Time (Wallclock Seconds):   0.00\n",
      "\n",
      "Option for printingOptions changed from normal to all\n",
      "Total time (CPU seconds):       0.00   (Wallclock seconds):       0.00\n",
      "\n",
      "Optimális befektetési arányok:\n",
      "A társaságnál az I alapba fektetendő mennyiség: 1.0 millió forint\n",
      "A társaságnál az II alapba fektetendő mennyiség: 0.0 millió forint\n",
      "A társaságnál az III alapba fektetendő mennyiség: 0.0 millió forint\n",
      "B társaságnál az I alapba fektetendő mennyiség: 1.0 millió forint\n",
      "B társaságnál az II alapba fektetendő mennyiség: 0.0 millió forint\n",
      "B társaságnál az III alapba fektetendő mennyiség: 0.0 millió forint\n",
      "C társaságnál az I alapba fektetendő mennyiség: 7.0 millió forint\n",
      "C társaságnál az II alapba fektetendő mennyiség: 0.0 millió forint\n",
      "C társaságnál az III alapba fektetendő mennyiség: 0.0 millió forint\n",
      "D társaságnál az I alapba fektetendő mennyiség: 1.0 millió forint\n",
      "D társaságnál az II alapba fektetendő mennyiség: 0.0 millió forint\n",
      "D társaságnál az III alapba fektetendő mennyiség: 0.0 millió forint\n"
     ]
    }
   ],
   "source": [
    "from pulp import LpProblem, LpVariable, lpSum, LpMaximize\n",
    "prob = LpProblem(\"Maximalizált_hozam\", LpMaximize)\n",
    "\n",
    "tarsasagok = ['A', 'B', 'C', 'D']\n",
    "alapok = ['I', 'II', 'III']\n",
    "\n",
    "hozamok = {\n",
    "    ('A', 'I'): 19, ('A', 'II'): 9.4, ('A', 'III'): 7.8,\n",
    "    ('B', 'I'): 17, ('B', 'II'): 9.8, ('B', 'III'): 8,\n",
    "    ('C', 'I'): 20, ('C', 'II'): 8.9, ('C', 'III'): 7.2,\n",
    "    ('D', 'I'): 16, ('D', 'II'): 9.2, ('D', 'III'): 6.6\n",
    "}\n",
    "\n",
    "prob = LpProblem(\"Maximalizált hozam\", LpMaximize)\n",
    "\n",
    "x = LpVariable.dicts(\"Alapok\", [(t, a) for t in tarsasagok for a in alapok], lowBound=0)\n",
    "\n",
    "prob += lpSum(hozamok[(t, a)] * x[(t, a)] for t in tarsasagok for a in alapok)\n",
    "prob += lpSum(x[(t, a)] for t in tarsasagok for a in alapok) == 10\n",
    "\n",
    "for t in tarsasagok:\n",
    "    prob += lpSum(x[(t, a)] for a in alapok) == 1\n",
    "\n",
    "prob.solve()\n",
    "\n",
    "print(\"Optimális befektetési arányok:\")\n",
    "for t in tarsasagok:\n",
    "    for a in alapok:\n",
    "        print(f\"{t} társaságnál az {a} alapba fektetendő mennyiség: {x[(t, a)].varValue} millió forint\")"
   ]
  },
  {
   "cell_type": "code",
   "execution_count": 18,
   "id": "24bd3b4a",
   "metadata": {},
   "outputs": [],
   "source": [
    "# Szállítási feladat:"
   ]
  },
  {
   "cell_type": "code",
   "execution_count": 19,
   "id": "97f9f8c6",
   "metadata": {},
   "outputs": [],
   "source": [
    "# a,"
   ]
  },
  {
   "cell_type": "code",
   "execution_count": 30,
   "id": "c93910c7",
   "metadata": {},
   "outputs": [
    {
     "name": "stdout",
     "output_type": "stream",
     "text": [
      "Welcome to the CBC MILP Solver \n",
      "Version: 2.10.3 \n",
      "Build Date: Dec 15 2019 \n",
      "\n",
      "command line - /Users/kertesznoi/anaconda3/lib/python3.11/site-packages/pulp/solverdir/cbc/osx/64/cbc /var/folders/q3/m9qngvh53ws46pc8g2rcdt9c0000gn/T/a75919a8d41b40c0bc8e4abc11ee6f72-pulp.mps -timeMode elapsed -branch -printingOptions all -solution /var/folders/q3/m9qngvh53ws46pc8g2rcdt9c0000gn/T/a75919a8d41b40c0bc8e4abc11ee6f72-pulp.sol (default strategy 1)\n",
      "At line 2 NAME          MODEL\n",
      "At line 3 ROWS\n",
      "At line 14 COLUMNS\n",
      "At line 69 RHS\n",
      "At line 79 BOUNDS\n",
      "At line 80 ENDATA\n",
      "Problem MODEL has 9 rows, 18 columns and 36 elements\n",
      "Coin0008I MODEL read with 0 errors\n",
      "Option for timeMode changed from cpu to elapsed\n",
      "Presolve 9 (0) rows, 18 (0) columns and 36 (0) elements\n",
      "0  Obj 0 Primal inf 10000 (6)\n",
      "9  Obj 175400\n",
      "Optimal - objective value 175400\n",
      "Optimal objective 175400 - 9 iterations time 0.002\n",
      "Option for printingOptions changed from normal to all\n",
      "Total time (CPU seconds):       0.00   (Wallclock seconds):       0.00\n",
      "\n",
      "Megoldás:\n",
      "Veszprém városból P1 pékségbe 2700.0 egységet szállítunk.\n",
      "Veszprém városból P3 pékségbe 1300.0 egységet szállítunk.\n",
      "Zirc városból P2 pékségbe 800.0 egységet szállítunk.\n",
      "Balatonfüred városból P1 pékségbe 1000.0 egységet szállítunk.\n",
      "Várpalota városból P1 pékségbe 300.0 egységet szállítunk.\n",
      "Várpalota városból P2 pékségbe 1200.0 egységet szállítunk.\n",
      "Ajka városból P3 pékségbe 1700.0 egységet szállítunk.\n",
      "Balatonalmádi városból P3 pékségbe 1000.0 egységet szállítunk.\n"
     ]
    }
   ],
   "source": [
    "from pulp import LpVariable, LpProblem, LpMinimize, lpSum\n",
    "\n",
    "varosok = ['Veszprém', 'Zirc', 'Balatonfüred', 'Várpalota', 'Ajka', 'Balatonalmádi']\n",
    "peksagek = ['P1', 'P2', 'P3']\n",
    "\n",
    "igenyek = [4000, 800, 1000, 1500, 1700, 1000]\n",
    "kapacitasok = [4000, 2000, 4000]\n",
    "\n",
    "tavolsagok = {\n",
    "    ('Veszprém', 'P1'): 5, ('Veszprém', 'P2'): 20, ('Veszprém', 'P3'): 18,\n",
    "    ('Zirc', 'P1'): 20, ('Zirc', 'P2'): 3, ('Zirc', 'P3'): 38,\n",
    "    ('Balatonfüred', 'P1'): 18, ('Balatonfüred', 'P2'): 38, ('Balatonfüred', 'P3'): 40,\n",
    "    ('Várpalota', 'P1'): 22, ('Várpalota', 'P2'): 35, ('Várpalota', 'P3'): 40,\n",
    "    ('Ajka', 'P1'): 40, ('Ajka', 'P2'): 60, ('Ajka', 'P3'): 35,\n",
    "    ('Balatonalmádi', 'P1'): 13, ('Balatonalmádi', 'P2'): 33, ('Balatonalmádi', 'P3'): 10\n",
    "}\n",
    "\n",
    "prob = LpProblem(\"Minimális szállítási teljesítményigény\", LpMinimize)\n",
    "\n",
    "x = LpVariable.dicts(\"Mennyiség\", [(v, p) for v in varosok for p in peksagek], lowBound=0, cat='Continuous')\n",
    "\n",
    "prob += lpSum(tavolsagok[v, p] * x[v, p] for v in varosok for p in peksagek)\n",
    "\n",
    "for v in varosok:\n",
    "    prob += lpSum(x[v, p] for p in peksagek) == igenyek[varosok.index(v)]\n",
    "for p in peksagek:\n",
    "    prob += lpSum(x[v, p] for v in varosok) <= kapacitasok[peksagek.index(p)]\n",
    "\n",
    "prob.solve()\n",
    "\n",
    "print(\"Megoldás:\")\n",
    "for v in varosok:\n",
    "    for p in peksagek:\n",
    "        if x[v, p].varValue > 0:\n",
    "            print(f\"{v} városból {p} pékségbe {x[v, p].varValue} egységet szállítunk.\")"
   ]
  },
  {
   "cell_type": "code",
   "execution_count": 29,
   "id": "29c46032",
   "metadata": {},
   "outputs": [
    {
     "name": "stdout",
     "output_type": "stream",
     "text": [
      "Távolság Veszprém város és P1 pékség között: 5\n",
      "Távolság Veszprém város és P2 pékség között: 20\n",
      "Távolság Veszprém város és P3 pékség között: 18\n",
      "Távolság Zirc város és P1 pékség között: 20\n",
      "Távolság Zirc város és P2 pékség között: 3\n",
      "Távolság Zirc város és P3 pékség között: 38\n",
      "Távolság Balatonfüred város és P1 pékség között: 18\n",
      "Távolság Balatonfüred város és P2 pékség között: 38\n",
      "Távolság Balatonfüred város és P3 pékség között: 40\n",
      "Távolság Várpalota város és P1 pékség között: 22\n",
      "Távolság Várpalota város és P2 pékség között: 35\n",
      "Távolság Várpalota város és P3 pékség között: 40\n",
      "Távolság Ajka város és P1 pékség között: 40\n",
      "Távolság Ajka város és P2 pékség között: 60\n",
      "Távolság Ajka város és P3 pékség között: 35\n",
      "Távolság Balatonalmádi város és P1 pékség között: 13\n",
      "Távolság Balatonalmádi város és P2 pékség között: 33\n",
      "Távolság Balatonalmádi város és P3 pékség között: 10\n"
     ]
    }
   ],
   "source": [
    "for varos in varosok:\n",
    "    for peksag in peksagek:\n",
    "        try:\n",
    "            print(f\"Távolság {varos} város és {peksag} pékség között: {tavolsagok[varos, peksag]}\")\n",
    "        except KeyError:\n",
    "            print(f\"Nincs távolság megadva {varos} város és {peksag} pékség között\")"
   ]
  },
  {
   "cell_type": "code",
   "execution_count": 31,
   "id": "36920ad9",
   "metadata": {},
   "outputs": [],
   "source": [
    "# b,"
   ]
  },
  {
   "cell_type": "code",
   "execution_count": 32,
   "id": "75cabccd",
   "metadata": {},
   "outputs": [
    {
     "name": "stdout",
     "output_type": "stream",
     "text": [
      "Welcome to the CBC MILP Solver \n",
      "Version: 2.10.3 \n",
      "Build Date: Dec 15 2019 \n",
      "\n",
      "command line - /Users/kertesznoi/anaconda3/lib/python3.11/site-packages/pulp/solverdir/cbc/osx/64/cbc /var/folders/q3/m9qngvh53ws46pc8g2rcdt9c0000gn/T/e70a4a45dfe04650a5e13d3cc3546a02-pulp.mps -timeMode elapsed -branch -printingOptions all -solution /var/folders/q3/m9qngvh53ws46pc8g2rcdt9c0000gn/T/e70a4a45dfe04650a5e13d3cc3546a02-pulp.sol (default strategy 1)\n",
      "At line 2 NAME          MODEL\n",
      "At line 3 ROWS\n",
      "At line 14 COLUMNS\n",
      "At line 69 RHS\n",
      "At line 79 BOUNDS\n",
      "At line 80 ENDATA\n",
      "Problem MODEL has 9 rows, 18 columns and 36 elements\n",
      "Coin0008I MODEL read with 0 errors\n",
      "Option for timeMode changed from cpu to elapsed\n",
      "Presolve 9 (0) rows, 18 (0) columns and 36 (0) elements\n",
      "0  Obj 0 Primal inf 10000 (6)\n",
      "9  Obj 175400\n",
      "Optimal - objective value 175400\n",
      "Optimal objective 175400 - 9 iterations time 0.002\n",
      "Option for printingOptions changed from normal to all\n",
      "Total time (CPU seconds):       0.00   (Wallclock seconds):       0.01\n",
      "\n",
      "Az összes szállítási teljesítményigény: 175400.0\n"
     ]
    }
   ],
   "source": [
    "prob = LpProblem(\"Minimális szállítási teljesítményigény\", LpMinimize)\n",
    "\n",
    "x = LpVariable.dicts(\"Mennyiség\", [(v, p) for v in varosok for p in peksagek], lowBound=0, cat='Continuous')\n",
    "\n",
    "prob += lpSum(tavolsagok[v, p] * x[v, p] for v in varosok for p in peksagek)\n",
    "\n",
    "for v in varosok:\n",
    "    prob += lpSum(x[v, p] for p in peksagek) == igenyek[varosok.index(v)]\n",
    "for p in peksagek:\n",
    "    prob += lpSum(x[v, p] for v in varosok) <= kapacitasok[peksagek.index(p)]\n",
    "\n",
    "prob.solve()\n",
    "\n",
    "osszes_teljesitmenyigeny = sum(tavolsagok[v, p] * x[v, p].varValue for v in varosok for p in peksagek)\n",
    "print(\"Az összes szállítási teljesítményigény:\", osszes_teljesitmenyigeny)"
   ]
  },
  {
   "cell_type": "code",
   "execution_count": 33,
   "id": "08df01ca",
   "metadata": {},
   "outputs": [],
   "source": [
    "# c,"
   ]
  },
  {
   "cell_type": "code",
   "execution_count": 34,
   "id": "41fe50f3",
   "metadata": {},
   "outputs": [
    {
     "name": "stdout",
     "output_type": "stream",
     "text": [
      "Az üzemanyagok összes költsége: 26310.0 Euró\n"
     ]
    }
   ],
   "source": [
    "fogyasztas_per_km = 15 / 100  # literben\n",
    "uzemanyag_ara = 1  # Euro/liter\n",
    "\n",
    "uzemanyag_koltseg = fogyasztas_per_km * osszes_teljesitmenyigeny * uzemanyag_ara\n",
    "\n",
    "print(\"Az üzemanyagok összes költsége:\", uzemanyag_koltseg, \"Euró\")"
   ]
  },
  {
   "cell_type": "code",
   "execution_count": null,
   "id": "c394bcde",
   "metadata": {},
   "outputs": [],
   "source": []
  },
  {
   "cell_type": "code",
   "execution_count": null,
   "id": "41a493b5",
   "metadata": {},
   "outputs": [],
   "source": []
  }
 ],
 "metadata": {
  "kernelspec": {
   "display_name": "Python 3 (ipykernel)",
   "language": "python",
   "name": "python3"
  },
  "language_info": {
   "codemirror_mode": {
    "name": "ipython",
    "version": 3
   },
   "file_extension": ".py",
   "mimetype": "text/x-python",
   "name": "python",
   "nbconvert_exporter": "python",
   "pygments_lexer": "ipython3",
   "version": "3.11.5"
  }
 },
 "nbformat": 4,
 "nbformat_minor": 5
}
