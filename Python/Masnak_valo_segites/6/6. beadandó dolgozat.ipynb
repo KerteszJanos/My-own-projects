{
 "cells": [
  {
   "cell_type": "code",
   "execution_count": 14,
   "id": "0431c02c",
   "metadata": {},
   "outputs": [],
   "source": [
    "# 1.feladat: Számítsuk ki az A és B mátrixok rangját, inverzét és determinánsát!\n",
    "import numpy as np"
   ]
  },
  {
   "cell_type": "code",
   "execution_count": 15,
   "id": "6d0100a8",
   "metadata": {},
   "outputs": [
    {
     "data": {
      "text/plain": [
       "array([[1, 2, 3],\n",
       "       [2, 3, 4],\n",
       "       [3, 4, 6]])"
      ]
     },
     "execution_count": 15,
     "metadata": {},
     "output_type": "execute_result"
    }
   ],
   "source": [
    "A=np.array([[1,2,3],[2,3,4],[3,4,6]])\n",
    "A"
   ]
  },
  {
   "cell_type": "code",
   "execution_count": 16,
   "id": "82e0dd8b",
   "metadata": {},
   "outputs": [
    {
     "data": {
      "text/plain": [
       "array([[1, 0, 0, 0],\n",
       "       [2, 1, 0, 0],\n",
       "       [3, 2, 1, 0],\n",
       "       [4, 3, 2, 1]])"
      ]
     },
     "execution_count": 16,
     "metadata": {},
     "output_type": "execute_result"
    }
   ],
   "source": [
    "B=np.array([[1,0,0,0],[2,1,0,0],[3,2,1,0],[4,3,2,1]])\n",
    "B"
   ]
  },
  {
   "cell_type": "code",
   "execution_count": 17,
   "id": "7d527fa0",
   "metadata": {},
   "outputs": [
    {
     "data": {
      "text/plain": [
       "array([[-2.00000000e+00,  5.92118946e-16,  1.00000000e+00],\n",
       "       [-3.33066907e-16,  3.00000000e+00, -2.00000000e+00],\n",
       "       [ 1.00000000e+00, -2.00000000e+00,  1.00000000e+00]])"
      ]
     },
     "execution_count": 17,
     "metadata": {},
     "output_type": "execute_result"
    }
   ],
   "source": [
    "# inverz:\n",
    "Ai=np.linalg.inv(A)\n",
    "Ai"
   ]
  },
  {
   "cell_type": "code",
   "execution_count": 18,
   "id": "dc37bdd9",
   "metadata": {},
   "outputs": [
    {
     "data": {
      "text/plain": [
       "array([[ 1.00000000e+00,  1.11022302e-16,  0.00000000e+00,\n",
       "         0.00000000e+00],\n",
       "       [-2.00000000e+00,  1.00000000e+00, -0.00000000e+00,\n",
       "        -0.00000000e+00],\n",
       "       [ 1.00000000e+00, -2.00000000e+00,  1.00000000e+00,\n",
       "        -0.00000000e+00],\n",
       "       [ 2.22044605e-16,  1.00000000e+00, -2.00000000e+00,\n",
       "         1.00000000e+00]])"
      ]
     },
     "execution_count": 18,
     "metadata": {},
     "output_type": "execute_result"
    }
   ],
   "source": [
    "Bi=np.linalg.inv(B)\n",
    "Bi"
   ]
  },
  {
   "cell_type": "code",
   "execution_count": 19,
   "id": "b5babb82",
   "metadata": {},
   "outputs": [
    {
     "data": {
      "text/plain": [
       "3"
      ]
     },
     "execution_count": 19,
     "metadata": {},
     "output_type": "execute_result"
    }
   ],
   "source": [
    "# rang:\n",
    "R1 = np.linalg.matrix_rank(Ai)\n",
    "R1"
   ]
  },
  {
   "cell_type": "code",
   "execution_count": 20,
   "id": "66a8fa83",
   "metadata": {},
   "outputs": [
    {
     "data": {
      "text/plain": [
       "4"
      ]
     },
     "execution_count": 20,
     "metadata": {},
     "output_type": "execute_result"
    }
   ],
   "source": [
    "R2 = np.linalg.matrix_rank(Bi)\n",
    "R2"
   ]
  },
  {
   "cell_type": "code",
   "execution_count": 21,
   "id": "b1b4675f",
   "metadata": {},
   "outputs": [
    {
     "data": {
      "text/plain": [
       "-1.000000000000001"
      ]
     },
     "execution_count": 21,
     "metadata": {},
     "output_type": "execute_result"
    }
   ],
   "source": [
    "# determináns:\n",
    "D1=np.linalg.det(Ai)\n",
    "D1"
   ]
  },
  {
   "cell_type": "code",
   "execution_count": 22,
   "id": "cae206ad",
   "metadata": {},
   "outputs": [
    {
     "data": {
      "text/plain": [
       "0.9999999999999996"
      ]
     },
     "execution_count": 22,
     "metadata": {},
     "output_type": "execute_result"
    }
   ],
   "source": [
    "D2=np.linalg.det(Bi)\n",
    "D2"
   ]
  },
  {
   "cell_type": "code",
   "execution_count": 23,
   "id": "2a8a3784",
   "metadata": {},
   "outputs": [],
   "source": [
    "# 2.feladat:  Oldja meg a következő egyenletrendszert a Gauss módszerrel és az inverz mátrix-szal is.\n",
    "C=np.array([[4,1,2],[2,4,1],[1,2,4]])"
   ]
  },
  {
   "cell_type": "code",
   "execution_count": 24,
   "id": "1a2c0edd",
   "metadata": {},
   "outputs": [],
   "source": [
    "D=np.array([8,4,9])"
   ]
  },
  {
   "cell_type": "code",
   "execution_count": 25,
   "id": "fc4b37cc",
   "metadata": {},
   "outputs": [
    {
     "data": {
      "text/plain": [
       "array([1., 0., 2.])"
      ]
     },
     "execution_count": 25,
     "metadata": {},
     "output_type": "execute_result"
    }
   ],
   "source": [
    "# Gauss módszer:\n",
    "x=np.linalg.solve(C,D)\n",
    "x"
   ]
  },
  {
   "cell_type": "code",
   "execution_count": 26,
   "id": "19782db2",
   "metadata": {},
   "outputs": [
    {
     "data": {
      "text/plain": [
       "True"
      ]
     },
     "execution_count": 26,
     "metadata": {},
     "output_type": "execute_result"
    }
   ],
   "source": [
    "ellenorzes=np.allclose(np.dot(C,x),D)\n",
    "ellenorzes"
   ]
  },
  {
   "cell_type": "code",
   "execution_count": 27,
   "id": "2d1ce2ec",
   "metadata": {},
   "outputs": [
    {
     "data": {
      "text/plain": [
       "array([[ 0.28571429,  0.        , -0.14285714],\n",
       "       [-0.14285714,  0.28571429,  0.        ],\n",
       "       [ 0.        , -0.14285714,  0.28571429]])"
      ]
     },
     "execution_count": 27,
     "metadata": {},
     "output_type": "execute_result"
    }
   ],
   "source": [
    "# Inverz mátrix módszer:\n",
    "Ci=np.linalg.inv(C)\n",
    "Ci"
   ]
  },
  {
   "cell_type": "code",
   "execution_count": 28,
   "id": "9069a9e7",
   "metadata": {},
   "outputs": [
    {
     "data": {
      "text/plain": [
       "array([1., 0., 2.])"
      ]
     },
     "execution_count": 28,
     "metadata": {},
     "output_type": "execute_result"
    }
   ],
   "source": [
    "x=np.dot(Ci,D)\n",
    "x"
   ]
  },
  {
   "cell_type": "code",
   "execution_count": 29,
   "id": "ba411431",
   "metadata": {},
   "outputs": [
    {
     "data": {
      "text/plain": [
       "True"
      ]
     },
     "execution_count": 29,
     "metadata": {},
     "output_type": "execute_result"
    }
   ],
   "source": [
    "ellenorzes2=np.allclose(np.dot(C,x),D)\n",
    "ellenorzes2"
   ]
  },
  {
   "cell_type": "code",
   "execution_count": 30,
   "id": "588ae895",
   "metadata": {},
   "outputs": [
    {
     "data": {
      "text/plain": [
       "array([[2. , 2. , 1. ],\n",
       "       [3. , 2. , 0.5],\n",
       "       [2. , 1. , 1. ]])"
      ]
     },
     "execution_count": 30,
     "metadata": {},
     "output_type": "execute_result"
    }
   ],
   "source": [
    "# piac:\n",
    "E=np.array([[2,2,1],[3,2,0.5],[2,1,1]])\n",
    "E"
   ]
  },
  {
   "cell_type": "code",
   "execution_count": 31,
   "id": "9843879d",
   "metadata": {},
   "outputs": [
    {
     "data": {
      "text/plain": [
       "array([[180, 100, 130],\n",
       "       [390, 420, 360],\n",
       "       [210, 210, 230]])"
      ]
     },
     "execution_count": 31,
     "metadata": {},
     "output_type": "execute_result"
    }
   ],
   "source": [
    "F=np.array([[180,100,130],[390,420,360],[210,210,230]])\n",
    "F"
   ]
  },
  {
   "cell_type": "code",
   "execution_count": 32,
   "id": "2890ffb1",
   "metadata": {},
   "outputs": [
    {
     "data": {
      "text/plain": [
       "array([[1350., 1250., 1210.],\n",
       "       [1425., 1245., 1225.],\n",
       "       [ 960.,  830.,  850.]])"
      ]
     },
     "execution_count": 32,
     "metadata": {},
     "output_type": "execute_result"
    }
   ],
   "source": [
    "EF=np.dot(E,F)\n",
    "EF"
   ]
  },
  {
   "cell_type": "code",
   "execution_count": 33,
   "id": "77c02538",
   "metadata": {},
   "outputs": [
    {
     "name": "stdout",
     "output_type": "stream",
     "text": [
      "[1210. 1225.  830.]\n"
     ]
    }
   ],
   "source": [
    "print(EF.min(axis=1))"
   ]
  },
  {
   "cell_type": "code",
   "execution_count": 34,
   "id": "b9fb59ac",
   "metadata": {},
   "outputs": [],
   "source": [
    "# 3.feladat: Anti, Bori, Cili almát, banánt és citromot vesz a piacon, a hipermarketben vagy a csarnokban. \n",
    "# Ha csak az ár számít, melyikük hol vásároljon?"
   ]
  },
  {
   "cell_type": "code",
   "execution_count": 35,
   "id": "edf4f5bd",
   "metadata": {},
   "outputs": [],
   "source": [
    "aruk = {\n",
    "    \"alma\": {\"csarnok\": 180, \"hipermarket\": 100, \"piac\": 130},\n",
    "    \"banán\": {\"csarnok\": 390, \"hipermarket\": 420, \"piac\": 360},\n",
    "    \"citrom\": {\"csarnok\": 210, \"hipermarket\": 210, \"piac\": 230}\n",
    "}"
   ]
  },
  {
   "cell_type": "code",
   "execution_count": 36,
   "id": "965a5d0c",
   "metadata": {},
   "outputs": [],
   "source": [
    "mennyisegek = {\n",
    "    \"Anti\": {\"alma\": 2, \"banán\": 2, \"citrom\": 1},\n",
    "    \"Bori\": {\"alma\": 3, \"banán\": 2, \"citrom\": 0.5},\n",
    "    \"Cili\": {\"alma\": 2, \"banán\": 2, \"citrom\": 1}\n",
    "}"
   ]
  },
  {
   "cell_type": "code",
   "execution_count": 37,
   "id": "e13c305c",
   "metadata": {},
   "outputs": [],
   "source": [
    "boltok = [\"csarnok\", \"hipermarket\", \"piac\"]"
   ]
  },
  {
   "cell_type": "code",
   "execution_count": 38,
   "id": "f5b326ba",
   "metadata": {},
   "outputs": [],
   "source": [
    "ossz_arak = {}\n",
    "for nev, mennyisegek_dict in mennyisegek.items():\n",
    "    ossz_arak[nev] = {}\n",
    "    for bolt in boltok:\n",
    "        ossz_ar = sum(mennyisegek_dict[gyumolcs] * aruk[gyumolcs][bolt] for gyumolcs in mennyisegek_dict)\n",
    "        ossz_arak[nev][bolt] = ossz_ar"
   ]
  },
  {
   "cell_type": "code",
   "execution_count": 39,
   "id": "19b52009",
   "metadata": {},
   "outputs": [],
   "source": [
    "legolcsobb_bolt = {}\n",
    "for nev, arak in ossz_arak.items():\n",
    "    legolcsobb_bolt[nev] = min(arak, key=arak.get)"
   ]
  },
  {
   "cell_type": "code",
   "execution_count": 42,
   "id": "6c1b8adc",
   "metadata": {},
   "outputs": [
    {
     "name": "stdout",
     "output_type": "stream",
     "text": [
      "Anti legolcsóbban piacon vásárolhat.\n",
      "Bori legolcsóbban piacon vásárolhat.\n",
      "Cili legolcsóbban piacon vásárolhat.\n"
     ]
    }
   ],
   "source": [
    "for nev, bolt in legolcsobb_bolt.items():\n",
    "    print(f\"{nev} legolcsóbban {bolt}on vásárolhat.\")"
   ]
  },
  {
   "cell_type": "code",
   "execution_count": null,
   "id": "2e26e306",
   "metadata": {},
   "outputs": [],
   "source": []
  }
 ],
 "metadata": {
  "kernelspec": {
   "display_name": "Python 3 (ipykernel)",
   "language": "python",
   "name": "python3"
  },
  "language_info": {
   "codemirror_mode": {
    "name": "ipython",
    "version": 3
   },
   "file_extension": ".py",
   "mimetype": "text/x-python",
   "name": "python",
   "nbconvert_exporter": "python",
   "pygments_lexer": "ipython3",
   "version": "3.11.5"
  }
 },
 "nbformat": 4,
 "nbformat_minor": 5
}
