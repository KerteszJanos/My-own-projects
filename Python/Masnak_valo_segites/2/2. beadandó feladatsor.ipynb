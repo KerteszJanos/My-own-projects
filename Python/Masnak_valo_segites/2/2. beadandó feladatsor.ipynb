{
 "cells": [
  {
   "cell_type": "code",
   "execution_count": 1,
   "id": "90a8a659-af58-48b2-9d78-65882ad89969",
   "metadata": {
    "tags": []
   },
   "outputs": [
    {
     "name": "stdout",
     "output_type": "stream",
     "text": [
      "       Dátum Kategórianév Terméknév  Mennyiség  Bevétel   Költség  Nyereség  \\\n",
      "0 2015-01-02        Iroda      Toll        800   320000  256000.0   64000.0   \n",
      "1 2015-01-05        Iroda      Toll        800   320000  204800.0  115200.0   \n",
      "2 2015-01-13        Játék     Labda        600   300000  240000.0   60000.0   \n",
      "3 2015-01-16        Játék     Labda        600   300000  192000.0  108000.0   \n",
      "4 2015-01-23        Játék     Labda        300   150000  120000.0   30000.0   \n",
      "5 2015-01-24         Kert  Gereblye        400   280000  224000.0   56000.0   \n",
      "6 2015-02-01        Iroda      Toll        800   320000  256000.0   64000.0   \n",
      "7 2015-02-12        Játék     Labda        600   300000  240000.0   60000.0   \n",
      "8 2015-02-13        Iroda    Ceruza        800   240000  192000.0   48000.0   \n",
      "9 2015-02-14        Játék     Labda        900   450000  360000.0   90000.0   \n",
      "\n",
      "     Vevőnév Vevő megye Vevő város Bolt megye Bolt város Boltnév  \n",
      "0  Kovács Bt       Pest    Gödöllő      Heves       Eger  2. ABC  \n",
      "1  Kovács Bt       Pest    Gödöllő      Heves       Eger  2. ABC  \n",
      "2  Kovács Bt       Pest    Gödöllő      Heves   Gyöngyös  1. ABC  \n",
      "3  Kovács Bt       Pest    Gödöllő      Heves   Gyöngyös  1. ABC  \n",
      "4   Nagy Kft      Heves   Gyöngyös      Heves   Gyöngyös  1. ABC  \n",
      "5   Nagy Kft      Heves   Gyöngyös       Pest    Gödöllő  2. ABC  \n",
      "6  Kovács Bt       Pest    Gödöllő      Heves       Eger  2. ABC  \n",
      "7  Kovács Bt       Pest    Gödöllő      Heves   Gyöngyös  1. ABC  \n",
      "8     Kis Bt      Heves     Hatvan      Heves   Gyöngyös  2. ABC  \n",
      "9     Kis Bt      Heves     Hatvan       Pest     Cegléd  2. ABC  \n",
      "         Dátum Kategórianév Terméknév  Mennyiség  Bevétel   Költség  Nyereség  \\\n",
      "301 2016-12-17         Kert      Kapa       1000   800000  640000.0  160000.0   \n",
      "302 2016-12-17         Kert      Kapa       1000   800000  640000.0  160000.0   \n",
      "303 2016-12-19        Játék     Labda        900   450000  360000.0   90000.0   \n",
      "304 2016-12-20        Iroda    Ceruza       1500   450000  360000.0   90000.0   \n",
      "305 2016-12-28        Iroda      Toll        800   320000  358400.0  -38400.0   \n",
      "\n",
      "       Vevőnév Vevő megye Vevő város Bolt megye Bolt város Boltnév  \n",
      "301  Kovács Bt       Pest    Gödöllő      Heves   Gyöngyös  1. ABC  \n",
      "302     Kis Bt      Heves     Hatvan      Heves   Gyöngyös  1. ABC  \n",
      "303  Kovács Bt       Pest    Gödöllő      Heves       Eger  1. ABC  \n",
      "304     Kis Bt      Heves     Hatvan      Heves   Gyöngyös  1. ABC  \n",
      "305   Nagy Kft      Heves   Gyöngyös      Heves   Gyöngyös  1. ABC  \n",
      "        Dátum Kategórianév Terméknév  Mennyiség  Bevétel   Költség  Nyereség  \\\n",
      "14 2015-03-04         Kert  Gereblye        400   280000  258048.0   21952.0   \n",
      "15 2015-03-13        Játék    Kártya        500   250000  200000.0   50000.0   \n",
      "16 2015-03-15        Iroda    Ceruza        800   240000  268800.0  -28800.0   \n",
      "17 2015-03-16        Játék     Labda        900   450000  504000.0  -54000.0   \n",
      "18 2015-03-23        Iroda    Ceruza       1100   330000  264000.0   66000.0   \n",
      "19 2015-03-24        Iroda      Toll        600   240000  192000.0   48000.0   \n",
      "20 2015-03-24        Iroda    Ceruza        800   240000  221184.0   18816.0   \n",
      "21 2015-04-01         Kert      Kapa        700   560000  448000.0  112000.0   \n",
      "22 2015-04-03        Játék     Labda        600   300000  240000.0   60000.0   \n",
      "23 2015-04-12        Játék    Kártya        500   250000  200000.0   50000.0   \n",
      "24 2015-04-16         Kert       Ásó        500   350000  280000.0   70000.0   \n",
      "\n",
      "     Vevőnév Vevő megye Vevő város Bolt megye Bolt város Boltnév  \n",
      "14  Nagy Kft      Heves   Gyöngyös       Pest    Gödöllő  2. ABC  \n",
      "15  Nagy Kft      Heves   Gyöngyös       Pest     Cegléd  1. ABC  \n",
      "16    Kis Bt      Heves     Hatvan      Heves   Gyöngyös  2. ABC  \n",
      "17    Kis Bt      Heves     Hatvan       Pest     Cegléd  2. ABC  \n",
      "18  Nagy Kft      Heves   Gyöngyös      Heves   Gyöngyös  2. ABC  \n",
      "19  Nagy Kft      Heves   Gyöngyös      Heves       Eger  1. ABC  \n",
      "20    Kis Bt      Heves     Hatvan      Heves   Gyöngyös  2. ABC  \n",
      "21  Nagy Kft      Heves   Gyöngyös      Heves     Hatvan  1. ABC  \n",
      "22  Tóth Kft      Heves       Eger       Pest     Cegléd  1. ABC  \n",
      "23  Nagy Kft      Heves   Gyöngyös       Pest     Cegléd  1. ABC  \n",
      "24  Tóth Kft      Heves       Eger      Heves       Eger  1. ABC  \n"
     ]
    }
   ],
   "source": [
    "import pandas as pd\n",
    "\n",
    "#1. Hívja be az Ertekesites(nagyker).xlsx Lekérdezés1 munkalapját.\n",
    "df = pd.read_excel('Ertekesitesnagyker.xlsx', sheet_name='Lekérdezés1')\n",
    "\n",
    "#2. Írassa ki az első 10 sort. Írassa ki az utolsó 5 sort. Írassa ki a 15 és 25 rekordok közötti sorokat.\n",
    "print(df.head(10))\n",
    "\n",
    "print(df.tail(5))\n",
    "\n",
    "print(df.iloc[14:25])"
   ]
  },
  {
   "cell_type": "code",
   "execution_count": 37,
   "id": "037455eb-ea0f-492a-8c14-e91b77174fa4",
   "metadata": {
    "tags": []
   },
   "outputs": [
    {
     "name": "stdout",
     "output_type": "stream",
     "text": [
      "        Dátum Terméknév  Bevétel\n",
      "0  2015-01-02      Toll   320000\n",
      "1  2015-01-05      Toll   320000\n",
      "2  2015-01-13     Labda   300000\n",
      "3  2015-01-16     Labda   300000\n",
      "4  2015-01-23     Labda   150000\n",
      "5  2015-01-24  Gereblye   280000\n",
      "6  2015-02-01      Toll   320000\n",
      "7  2015-02-12     Labda   300000\n",
      "8  2015-02-13    Ceruza   240000\n",
      "9  2015-02-14     Labda   450000\n",
      "10 2015-02-22     Labda   150000\n",
      "11 2015-02-23  Gereblye   280000\n",
      "12 2015-03-02      Kapa   560000\n",
      "13 2015-03-03     Labda   150000\n",
      "14 2015-03-04  Gereblye   280000\n",
      "15 2015-03-13    Kártya   250000\n",
      "16 2015-03-15    Ceruza   240000\n",
      "17 2015-03-16     Labda   450000\n",
      "18 2015-03-23    Ceruza   330000\n",
      "19 2015-03-24      Toll   240000\n"
     ]
    }
   ],
   "source": [
    "#3. Készítsen egy táblát (dataframe) az első 20 dátumról, termékről és bevételről.\n",
    "tabla_20 = df[['Dátum', 'Terméknév', 'Bevétel']].head(20)\n",
    "print(tabla_20)"
   ]
  },
  {
   "cell_type": "code",
   "execution_count": 38,
   "id": "88be79da-d83a-43c4-9a8a-38c11e4283c1",
   "metadata": {
    "tags": []
   },
   "outputs": [
    {
     "name": "stdout",
     "output_type": "stream",
     "text": [
      "         Dátum Kategórianév Terméknév  Mennyiség  Bevétel   Költség  Nyereség  \\\n",
      "271 2016-10-14        Játék     Labda       2000  1000000  800000.0  200000.0   \n",
      "272 2016-10-17        Játék     Labda       2000  1000000  800000.0  200000.0   \n",
      "288 2016-11-13        Játék     Labda       2000  1000000  800000.0  200000.0   \n",
      "59  2015-07-12         Kert       Ásó       1400   980000  784000.0  196000.0   \n",
      "79  2015-08-11         Kert       Ásó       1400   980000  784000.0  196000.0   \n",
      "139 2016-02-01         Kert       Ásó       1400   980000  784000.0  196000.0   \n",
      "54  2015-06-27         Kert      Kapa       1200   960000  768000.0  192000.0   \n",
      "71  2015-07-27         Kert      Kapa       1200   960000  768000.0  192000.0   \n",
      "111 2015-10-13         Kert     Kanna       1200   960000  768000.0  192000.0   \n",
      "216 2016-07-23         Kert     Kanna       1200   960000  768000.0  192000.0   \n",
      "\n",
      "       Vevőnév Vevő megye Vevő város Bolt megye Bolt város Boltnév  \\\n",
      "271   Szabó Rt       Pest      Monor      Heves   Gyöngyös  1. ABC   \n",
      "272   Szabó Rt       Pest      Monor      Heves   Gyöngyös  1. ABC   \n",
      "288   Szabó Rt       Pest      Monor      Heves   Gyöngyös  1. ABC   \n",
      "59   Kovács Bt       Pest    Gödöllő      Heves   Gyöngyös  2. ABC   \n",
      "79   Kovács Bt       Pest    Gödöllő       Pest     Cegléd  1. ABC   \n",
      "139   Szabó Rt       Pest      Monor      Heves   Gyöngyös  1. ABC   \n",
      "54    Szabó Rt       Pest      Monor      Heves       Eger  1. ABC   \n",
      "71    Szabó Rt       Pest      Monor      Heves   Gyöngyös  1. ABC   \n",
      "111   Tóth Kft      Heves       Eger      Heves     Hatvan  1. ABC   \n",
      "216   Nagy Kft      Heves   Gyöngyös      Heves   Gyöngyös  2. ABC   \n",
      "\n",
      "           Ország  \n",
      "271  Magyarország  \n",
      "272  Magyarország  \n",
      "288  Magyarország  \n",
      "59   Magyarország  \n",
      "79   Magyarország  \n",
      "139  Magyarország  \n",
      "54   Magyarország  \n",
      "71   Magyarország  \n",
      "111  Magyarország  \n",
      "216  Magyarország  \n"
     ]
    }
   ],
   "source": [
    "#4. Készítsen egy táblát a 10 legnagyobb nyereségű eladásról.\n",
    "top10_nyereseg = df.nlargest(10, 'Nyereség')\n",
    "print(top10_nyereseg)"
   ]
  },
  {
   "cell_type": "code",
   "execution_count": 39,
   "id": "271abc2e-cc6c-44db-afdc-f75740c6a805",
   "metadata": {
    "tags": []
   },
   "outputs": [],
   "source": [
    "#5. Készítsen egy táblát az 5 legkisebb bevételű eladásról. Csak a dátum, város és a bevétel szerepeljen az oszlopban. A táblát mentse minbev.tsv, tabbal elválasztott fájlba.\n",
    "min5_bevetel = df.nsmallest(5, 'Bevétel')[['Dátum', 'Vevő város', 'Bevétel']]\n",
    "min5_bevetel.to_csv('minbev.txt', sep='\\t', index=False)"
   ]
  },
  {
   "cell_type": "code",
   "execution_count": 40,
   "id": "fa917856-ec7d-4bb4-aca0-a719cf028495",
   "metadata": {
    "tags": []
   },
   "outputs": [
    {
     "name": "stdout",
     "output_type": "stream",
     "text": [
      "         Dátum Kategórianév Terméknév  Mennyiség  Bevétel   Költség  Nyereség  \\\n",
      "166 2016-04-16        Iroda    Ceruza        800   240000  193536.0   46464.0   \n",
      "183 2016-05-24        Iroda    Ceruza        800   240000  193536.0   46464.0   \n",
      "\n",
      "       Vevőnév Vevő megye Vevő város Bolt megye Bolt város Boltnév  \\\n",
      "166     Kis Bt      Heves     Hatvan      Heves       Eger  2. ABC   \n",
      "183  Kovács Bt       Pest    Gödöllő      Heves     Hatvan  1. ABC   \n",
      "\n",
      "           Ország  \n",
      "166  Magyarország  \n",
      "183  Magyarország  \n"
     ]
    }
   ],
   "source": [
    "#6. Keresse ki a 46464Ft nyereségű eladásokat.\n",
    "nyereseg_46464 = df[df['Nyereség'] == 46464]\n",
    "print(nyereseg_46464)"
   ]
  },
  {
   "cell_type": "code",
   "execution_count": 41,
   "id": "4db537e7-e873-4cb4-a63a-c24a4c8a4477",
   "metadata": {
    "tags": []
   },
   "outputs": [
    {
     "name": "stdout",
     "output_type": "stream",
     "text": [
      "         Dátum Kategórianév Terméknév  Mennyiség  Bevétel   Költség  Nyereség  \\\n",
      "0   2015-01-02        Iroda      Toll        800   320000  256000.0   64000.0   \n",
      "1   2015-01-05        Iroda      Toll        800   320000  204800.0  115200.0   \n",
      "6   2015-02-01        Iroda      Toll        800   320000  256000.0   64000.0   \n",
      "12  2015-03-02         Kert      Kapa        700   560000  448000.0  112000.0   \n",
      "19  2015-03-24        Iroda      Toll        600   240000  192000.0   48000.0   \n",
      "..         ...          ...       ...        ...      ...       ...       ...   \n",
      "296 2016-12-06        Játék     Labda       1000   500000  403200.0   96800.0   \n",
      "297 2016-12-06        Iroda     Füzet        500   100000  112000.0  -12000.0   \n",
      "298 2016-12-07        Iroda     Füzet        800   160000  128000.0   32000.0   \n",
      "300 2016-12-09        Iroda     Füzet        500   100000   80000.0   20000.0   \n",
      "303 2016-12-19        Játék     Labda        900   450000  360000.0   90000.0   \n",
      "\n",
      "       Vevőnév Vevő megye Vevő város Bolt megye Bolt város Boltnév  \\\n",
      "0    Kovács Bt       Pest    Gödöllő      Heves       Eger  2. ABC   \n",
      "1    Kovács Bt       Pest    Gödöllő      Heves       Eger  2. ABC   \n",
      "6    Kovács Bt       Pest    Gödöllő      Heves       Eger  2. ABC   \n",
      "12    Nagy Kft      Heves   Gyöngyös      Heves     Hatvan  1. ABC   \n",
      "19    Nagy Kft      Heves   Gyöngyös      Heves       Eger  1. ABC   \n",
      "..         ...        ...        ...        ...        ...     ...   \n",
      "296     Kis Bt      Heves     Hatvan      Heves       Eger  1. ABC   \n",
      "297     Kis Bt      Heves     Hatvan      Heves       Eger  1. ABC   \n",
      "298  Kovács Bt       Pest    Gödöllő      Heves       Eger  1. ABC   \n",
      "300   Tóth Kft      Heves       Eger      Heves       Eger  1. ABC   \n",
      "303  Kovács Bt       Pest    Gödöllő      Heves       Eger  1. ABC   \n",
      "\n",
      "           Ország  \n",
      "0    Magyarország  \n",
      "1    Magyarország  \n",
      "6    Magyarország  \n",
      "12   Magyarország  \n",
      "19   Magyarország  \n",
      "..            ...  \n",
      "296  Magyarország  \n",
      "297  Magyarország  \n",
      "298  Magyarország  \n",
      "300  Magyarország  \n",
      "303  Magyarország  \n",
      "\n",
      "[97 rows x 14 columns]\n"
     ]
    }
   ],
   "source": [
    "#7. Írassa ki az Egerben és Hatvanban történt eladásokat.\n",
    "eger_hatvan_eladasok = df[df['Bolt város'].isin(['Eger', 'Hatvan'])]\n",
    "print(eger_hatvan_eladasok)"
   ]
  },
  {
   "cell_type": "code",
   "execution_count": 33,
   "id": "73c566ba-5a7d-4a05-a5cf-d6eceb4d2cd3",
   "metadata": {
    "tags": []
   },
   "outputs": [
    {
     "name": "stdout",
     "output_type": "stream",
     "text": [
      "         Dátum Kategórianév Terméknév  Mennyiség  Bevétel   Költség  Nyereség  \\\n",
      "12  2015-03-02         Kert      Kapa        700   560000  448000.0  112000.0   \n",
      "21  2015-04-01         Kert      Kapa        700   560000  448000.0  112000.0   \n",
      "28  2015-04-23         Kert      Kapa        700   560000  448000.0  112000.0   \n",
      "30  2015-04-27        Iroda    Ceruza       2000   600000  480000.0  120000.0   \n",
      "43  2015-05-27        Iroda    Ceruza       2000   600000  480000.0  120000.0   \n",
      "..         ...          ...       ...        ...      ...       ...       ...   \n",
      "274 2016-10-20         Kert      Kapa        700   560000  451584.0  108416.0   \n",
      "280 2016-11-02         Kert     Kanna        700   560000  448000.0  112000.0   \n",
      "288 2016-11-13        Játék     Labda       2000  1000000  800000.0  200000.0   \n",
      "301 2016-12-17         Kert      Kapa       1000   800000  640000.0  160000.0   \n",
      "302 2016-12-17         Kert      Kapa       1000   800000  640000.0  160000.0   \n",
      "\n",
      "       Vevőnév Vevő megye Vevő város Bolt megye Bolt város Boltnév  \n",
      "12    Nagy Kft      Heves   Gyöngyös      Heves     Hatvan  1. ABC  \n",
      "21    Nagy Kft      Heves   Gyöngyös      Heves     Hatvan  1. ABC  \n",
      "28    Nagy Kft      Heves   Gyöngyös      Heves       Eger  1. ABC  \n",
      "30   Kovács Bt       Pest    Gödöllő      Heves     Hatvan  1. ABC  \n",
      "43   Kovács Bt       Pest    Gödöllő      Heves     Hatvan  1. ABC  \n",
      "..         ...        ...        ...        ...        ...     ...  \n",
      "274   Nagy Kft      Heves   Gyöngyös       Pest     Cegléd  1. ABC  \n",
      "280     Kis Bt      Heves     Hatvan      Heves   Gyöngyös  2. ABC  \n",
      "288   Szabó Rt       Pest      Monor      Heves   Gyöngyös  1. ABC  \n",
      "301  Kovács Bt       Pest    Gödöllő      Heves   Gyöngyös  1. ABC  \n",
      "302     Kis Bt      Heves     Hatvan      Heves   Gyöngyös  1. ABC  \n",
      "\n",
      "[72 rows x 13 columns]\n"
     ]
    }
   ],
   "source": [
    "#8. Írassa ki az 500000 fölötti eladásokat.\n",
    "nagy_eladasok = df[df['Bevétel'] > 500000]\n",
    "print(nagy_eladasok)"
   ]
  },
  {
   "cell_type": "code",
   "execution_count": 34,
   "id": "418e0a2a-4245-4053-9ef8-cff0b21857f4",
   "metadata": {
    "tags": []
   },
   "outputs": [
    {
     "name": "stdout",
     "output_type": "stream",
     "text": [
      "         Dátum Kategórianév Terméknév  Mennyiség  Bevétel   Költség  Nyereség  \\\n",
      "271 2016-10-14        Játék     Labda       2000  1000000  800000.0  200000.0   \n",
      "272 2016-10-17        Játék     Labda       2000  1000000  800000.0  200000.0   \n",
      "288 2016-11-13        Játék     Labda       2000  1000000  800000.0  200000.0   \n",
      "\n",
      "      Vevőnév Vevő megye Vevő város Bolt megye Bolt város Boltnév  \n",
      "271  Szabó Rt       Pest      Monor      Heves   Gyöngyös  1. ABC  \n",
      "272  Szabó Rt       Pest      Monor      Heves   Gyöngyös  1. ABC  \n",
      "288  Szabó Rt       Pest      Monor      Heves   Gyöngyös  1. ABC  \n"
     ]
    }
   ],
   "source": [
    "#9. Melyik volt a legnagyobb nyereségű eladás.\n",
    "max_nyereseg_eladas = df[df['Nyereség'] == df['Nyereség'].max()]\n",
    "print(max_nyereseg_eladas)"
   ]
  },
  {
   "cell_type": "code",
   "execution_count": 35,
   "id": "b3fe9e59-ac27-44af-8c27-744e34e5cb99",
   "metadata": {
    "tags": []
   },
   "outputs": [
    {
     "name": "stdout",
     "output_type": "stream",
     "text": [
      "         Dátum Kategórianév Terméknév  Mennyiség  Bevétel   Költség  Nyereség  \\\n",
      "9   2015-02-14        Játék     Labda        900   450000  360000.0   90000.0   \n",
      "12  2015-03-02         Kert      Kapa        700   560000  448000.0  112000.0   \n",
      "17  2015-03-16        Játék     Labda        900   450000  504000.0  -54000.0   \n",
      "21  2015-04-01         Kert      Kapa        700   560000  448000.0  112000.0   \n",
      "25  2015-04-16         Kert  Gereblye        700   490000  392000.0   98000.0   \n",
      "..         ...          ...       ...        ...      ...       ...       ...   \n",
      "296 2016-12-06        Játék     Labda       1000   500000  403200.0   96800.0   \n",
      "301 2016-12-17         Kert      Kapa       1000   800000  640000.0  160000.0   \n",
      "302 2016-12-17         Kert      Kapa       1000   800000  640000.0  160000.0   \n",
      "303 2016-12-19        Játék     Labda        900   450000  360000.0   90000.0   \n",
      "304 2016-12-20        Iroda    Ceruza       1500   450000  360000.0   90000.0   \n",
      "\n",
      "       Vevőnév Vevő megye Vevő város Bolt megye Bolt város Boltnév  \n",
      "9       Kis Bt      Heves     Hatvan       Pest     Cegléd  2. ABC  \n",
      "12    Nagy Kft      Heves   Gyöngyös      Heves     Hatvan  1. ABC  \n",
      "17      Kis Bt      Heves     Hatvan       Pest     Cegléd  2. ABC  \n",
      "21    Nagy Kft      Heves   Gyöngyös      Heves     Hatvan  1. ABC  \n",
      "25    Nagy Kft      Heves   Gyöngyös      Heves   Gyöngyös  2. ABC  \n",
      "..         ...        ...        ...        ...        ...     ...  \n",
      "296     Kis Bt      Heves     Hatvan      Heves       Eger  1. ABC  \n",
      "301  Kovács Bt       Pest    Gödöllő      Heves   Gyöngyös  1. ABC  \n",
      "302     Kis Bt      Heves     Hatvan      Heves   Gyöngyös  1. ABC  \n",
      "303  Kovács Bt       Pest    Gödöllő      Heves       Eger  1. ABC  \n",
      "304     Kis Bt      Heves     Hatvan      Heves   Gyöngyös  1. ABC  \n",
      "\n",
      "[139 rows x 13 columns]\n"
     ]
    }
   ],
   "source": [
    "#10. Melyek voltak az átlagbevétel feletti eladások?\n",
    "atlag_feletti_eladasok = df[df['Bevétel'] > df['Bevétel'].mean()]\n",
    "print(atlag_feletti_eladasok)"
   ]
  },
  {
   "cell_type": "code",
   "execution_count": 55,
   "id": "86104e30-f9af-486f-8c5d-e2729baf90fe",
   "metadata": {
    "tags": []
   },
   "outputs": [],
   "source": [
    "#11. Készítsen egy Ország nevű oszlopot és töltse fel Magyarországgal!\n",
    "df['Ország'] = 'Magyarország'"
   ]
  },
  {
   "cell_type": "code",
   "execution_count": 69,
   "id": "f279dbe2-73e4-4f3a-b43f-f49a5badf69e",
   "metadata": {
    "tags": []
   },
   "outputs": [
    {
     "ename": "KeyError",
     "evalue": "\"['Vevő megye', 'Vevő város'] not found in axis\"",
     "output_type": "error",
     "traceback": [
      "\u001b[1;31m---------------------------------------------------------------------------\u001b[0m",
      "\u001b[1;31mKeyError\u001b[0m                                  Traceback (most recent call last)",
      "Cell \u001b[1;32mIn[69], line 2\u001b[0m\n\u001b[0;32m      1\u001b[0m \u001b[38;5;66;03m#12. Törölje a Vevő megye és Vevő város oszlopokat.\u001b[39;00m\n\u001b[1;32m----> 2\u001b[0m df\u001b[38;5;241m.\u001b[39mdrop([\u001b[38;5;124m'\u001b[39m\u001b[38;5;124mVevő megye\u001b[39m\u001b[38;5;124m'\u001b[39m, \u001b[38;5;124m'\u001b[39m\u001b[38;5;124mVevő város\u001b[39m\u001b[38;5;124m'\u001b[39m], axis\u001b[38;5;241m=\u001b[39m\u001b[38;5;241m1\u001b[39m, inplace\u001b[38;5;241m=\u001b[39m\u001b[38;5;28;01mTrue\u001b[39;00m)\n",
      "File \u001b[1;32m~\\anaconda3\\Lib\\site-packages\\pandas\\core\\frame.py:5258\u001b[0m, in \u001b[0;36mDataFrame.drop\u001b[1;34m(self, labels, axis, index, columns, level, inplace, errors)\u001b[0m\n\u001b[0;32m   5110\u001b[0m \u001b[38;5;28;01mdef\u001b[39;00m \u001b[38;5;21mdrop\u001b[39m(\n\u001b[0;32m   5111\u001b[0m     \u001b[38;5;28mself\u001b[39m,\n\u001b[0;32m   5112\u001b[0m     labels: IndexLabel \u001b[38;5;241m=\u001b[39m \u001b[38;5;28;01mNone\u001b[39;00m,\n\u001b[1;32m   (...)\u001b[0m\n\u001b[0;32m   5119\u001b[0m     errors: IgnoreRaise \u001b[38;5;241m=\u001b[39m \u001b[38;5;124m\"\u001b[39m\u001b[38;5;124mraise\u001b[39m\u001b[38;5;124m\"\u001b[39m,\n\u001b[0;32m   5120\u001b[0m ) \u001b[38;5;241m-\u001b[39m\u001b[38;5;241m>\u001b[39m DataFrame \u001b[38;5;241m|\u001b[39m \u001b[38;5;28;01mNone\u001b[39;00m:\n\u001b[0;32m   5121\u001b[0m \u001b[38;5;250m    \u001b[39m\u001b[38;5;124;03m\"\"\"\u001b[39;00m\n\u001b[0;32m   5122\u001b[0m \u001b[38;5;124;03m    Drop specified labels from rows or columns.\u001b[39;00m\n\u001b[0;32m   5123\u001b[0m \n\u001b[1;32m   (...)\u001b[0m\n\u001b[0;32m   5256\u001b[0m \u001b[38;5;124;03m            weight  1.0     0.8\u001b[39;00m\n\u001b[0;32m   5257\u001b[0m \u001b[38;5;124;03m    \"\"\"\u001b[39;00m\n\u001b[1;32m-> 5258\u001b[0m     \u001b[38;5;28;01mreturn\u001b[39;00m \u001b[38;5;28msuper\u001b[39m()\u001b[38;5;241m.\u001b[39mdrop(\n\u001b[0;32m   5259\u001b[0m         labels\u001b[38;5;241m=\u001b[39mlabels,\n\u001b[0;32m   5260\u001b[0m         axis\u001b[38;5;241m=\u001b[39maxis,\n\u001b[0;32m   5261\u001b[0m         index\u001b[38;5;241m=\u001b[39mindex,\n\u001b[0;32m   5262\u001b[0m         columns\u001b[38;5;241m=\u001b[39mcolumns,\n\u001b[0;32m   5263\u001b[0m         level\u001b[38;5;241m=\u001b[39mlevel,\n\u001b[0;32m   5264\u001b[0m         inplace\u001b[38;5;241m=\u001b[39minplace,\n\u001b[0;32m   5265\u001b[0m         errors\u001b[38;5;241m=\u001b[39merrors,\n\u001b[0;32m   5266\u001b[0m     )\n",
      "File \u001b[1;32m~\\anaconda3\\Lib\\site-packages\\pandas\\core\\generic.py:4549\u001b[0m, in \u001b[0;36mNDFrame.drop\u001b[1;34m(self, labels, axis, index, columns, level, inplace, errors)\u001b[0m\n\u001b[0;32m   4547\u001b[0m \u001b[38;5;28;01mfor\u001b[39;00m axis, labels \u001b[38;5;129;01min\u001b[39;00m axes\u001b[38;5;241m.\u001b[39mitems():\n\u001b[0;32m   4548\u001b[0m     \u001b[38;5;28;01mif\u001b[39;00m labels \u001b[38;5;129;01mis\u001b[39;00m \u001b[38;5;129;01mnot\u001b[39;00m \u001b[38;5;28;01mNone\u001b[39;00m:\n\u001b[1;32m-> 4549\u001b[0m         obj \u001b[38;5;241m=\u001b[39m obj\u001b[38;5;241m.\u001b[39m_drop_axis(labels, axis, level\u001b[38;5;241m=\u001b[39mlevel, errors\u001b[38;5;241m=\u001b[39merrors)\n\u001b[0;32m   4551\u001b[0m \u001b[38;5;28;01mif\u001b[39;00m inplace:\n\u001b[0;32m   4552\u001b[0m     \u001b[38;5;28mself\u001b[39m\u001b[38;5;241m.\u001b[39m_update_inplace(obj)\n",
      "File \u001b[1;32m~\\anaconda3\\Lib\\site-packages\\pandas\\core\\generic.py:4591\u001b[0m, in \u001b[0;36mNDFrame._drop_axis\u001b[1;34m(self, labels, axis, level, errors, only_slice)\u001b[0m\n\u001b[0;32m   4589\u001b[0m         new_axis \u001b[38;5;241m=\u001b[39m axis\u001b[38;5;241m.\u001b[39mdrop(labels, level\u001b[38;5;241m=\u001b[39mlevel, errors\u001b[38;5;241m=\u001b[39merrors)\n\u001b[0;32m   4590\u001b[0m     \u001b[38;5;28;01melse\u001b[39;00m:\n\u001b[1;32m-> 4591\u001b[0m         new_axis \u001b[38;5;241m=\u001b[39m axis\u001b[38;5;241m.\u001b[39mdrop(labels, errors\u001b[38;5;241m=\u001b[39merrors)\n\u001b[0;32m   4592\u001b[0m     indexer \u001b[38;5;241m=\u001b[39m axis\u001b[38;5;241m.\u001b[39mget_indexer(new_axis)\n\u001b[0;32m   4594\u001b[0m \u001b[38;5;66;03m# Case for non-unique axis\u001b[39;00m\n\u001b[0;32m   4595\u001b[0m \u001b[38;5;28;01melse\u001b[39;00m:\n",
      "File \u001b[1;32m~\\anaconda3\\Lib\\site-packages\\pandas\\core\\indexes\\base.py:6699\u001b[0m, in \u001b[0;36mIndex.drop\u001b[1;34m(self, labels, errors)\u001b[0m\n\u001b[0;32m   6697\u001b[0m \u001b[38;5;28;01mif\u001b[39;00m mask\u001b[38;5;241m.\u001b[39many():\n\u001b[0;32m   6698\u001b[0m     \u001b[38;5;28;01mif\u001b[39;00m errors \u001b[38;5;241m!=\u001b[39m \u001b[38;5;124m\"\u001b[39m\u001b[38;5;124mignore\u001b[39m\u001b[38;5;124m\"\u001b[39m:\n\u001b[1;32m-> 6699\u001b[0m         \u001b[38;5;28;01mraise\u001b[39;00m \u001b[38;5;167;01mKeyError\u001b[39;00m(\u001b[38;5;124mf\u001b[39m\u001b[38;5;124m\"\u001b[39m\u001b[38;5;132;01m{\u001b[39;00m\u001b[38;5;28mlist\u001b[39m(labels[mask])\u001b[38;5;132;01m}\u001b[39;00m\u001b[38;5;124m not found in axis\u001b[39m\u001b[38;5;124m\"\u001b[39m)\n\u001b[0;32m   6700\u001b[0m     indexer \u001b[38;5;241m=\u001b[39m indexer[\u001b[38;5;241m~\u001b[39mmask]\n\u001b[0;32m   6701\u001b[0m \u001b[38;5;28;01mreturn\u001b[39;00m \u001b[38;5;28mself\u001b[39m\u001b[38;5;241m.\u001b[39mdelete(indexer)\n",
      "\u001b[1;31mKeyError\u001b[0m: \"['Vevő megye', 'Vevő város'] not found in axis\""
     ]
    }
   ],
   "source": [
    "#12. Törölje a Vevő megye és Vevő város oszlopokat.\n",
    "df.drop(['Vevő megye', 'Vevő város'], axis=1, inplace=True)"
   ]
  },
  {
   "cell_type": "code",
   "execution_count": 60,
   "id": "64b56830-4e09-41d7-91ee-c651ff2c2613",
   "metadata": {
    "tags": []
   },
   "outputs": [],
   "source": [
    "#13. Nevezze át a Bolt megye oszlopot Megyére.\n",
    "df.rename(columns={'Bolt megye': 'Megye'}, inplace=True)"
   ]
  },
  {
   "cell_type": "code",
   "execution_count": 61,
   "id": "bb4f41f9-0b7c-47dc-8dbb-3160df2b54a8",
   "metadata": {
    "tags": []
   },
   "outputs": [],
   "source": [
    "#14. Módosítsa a 25 és 30 sor közötti eladások vevőit Kis bt-re\n",
    "df.loc[24:29, 'Vevőnév'] = 'Kis bt'"
   ]
  },
  {
   "cell_type": "code",
   "execution_count": 51,
   "id": "517d4101-e5cc-42a1-82a6-a41b7f6e98f8",
   "metadata": {
    "tags": []
   },
   "outputs": [],
   "source": [
    "#15. Cserélje ki Bolt város oszlopban a Ceglédet Monorra. 16. Írassa ki a bevételek és nyereségek átlagát és szórását.\n",
    "df['Bolt város'] = df['Bolt város'].replace('Cegléd', 'Monor')"
   ]
  },
  {
   "cell_type": "code",
   "execution_count": 62,
   "id": "01638991-c5bf-4027-8b0c-ec2d380ecb86",
   "metadata": {
    "tags": []
   },
   "outputs": [
    {
     "name": "stdout",
     "output_type": "stream",
     "text": [
      "            Bevétel      Nyereség\n",
      "mean  411437.908497  59011.450980\n",
      "std   205394.201718  63144.279871\n"
     ]
    }
   ],
   "source": [
    "#16. Írassa ki a nyereségek átlagát és szórását.\n",
    "print(df[['Bevétel', 'Nyereség']].agg(['mean', 'std']))"
   ]
  },
  {
   "cell_type": "code",
   "execution_count": 63,
   "id": "9ad31d9a-c60a-458c-bd54-0d52017069d7",
   "metadata": {
    "tags": []
   },
   "outputs": [
    {
     "name": "stdout",
     "output_type": "stream",
     "text": [
      "                               Dátum    Mennyiség         Bevétel  \\\n",
      "count                            306   306.000000      306.000000   \n",
      "mean   2016-02-07 12:18:49.411764736   849.019608   411437.908497   \n",
      "min              2015-01-02 00:00:00   300.000000   100000.000000   \n",
      "25%              2015-08-07 00:00:00   600.000000   250000.000000   \n",
      "50%              2016-03-21 12:00:00   800.000000   400000.000000   \n",
      "75%              2016-08-08 18:00:00  1000.000000   490000.000000   \n",
      "max              2016-12-28 00:00:00  2000.000000  1000000.000000   \n",
      "std                              NaN   337.710255   205394.201718   \n",
      "\n",
      "             Költség       Nyereség  \n",
      "count     306.000000     306.000000  \n",
      "mean   352426.457516   59011.450980  \n",
      "min     80000.000000  -97280.000000  \n",
      "25%    225600.000000   24000.000000  \n",
      "50%    327168.000000   68728.000000  \n",
      "75%    448000.000000   96000.000000  \n",
      "max    940032.000000  200000.000000  \n",
      "std    172445.436005   63144.279871  \n"
     ]
    }
   ],
   "source": [
    "#17. Kérdezze le a numerikus mezők statisztikai mutatóit.\n",
    "print(df.describe())"
   ]
  },
  {
   "cell_type": "code",
   "execution_count": 64,
   "id": "43e3f536-0cc0-4552-8a38-70713f99e623",
   "metadata": {
    "tags": []
   },
   "outputs": [
    {
     "name": "stdout",
     "output_type": "stream",
     "text": [
      "             Bevétel   Nyereség\n",
      "Bolt város                     \n",
      "Eger        20870000  2915312.0\n",
      "Gyöngyös    52120000  7728512.0\n",
      "Gödöllő     18990000  2113264.0\n",
      "Hatvan      16470000  2876080.0\n",
      "Monor       17450000  2424336.0\n"
     ]
    }
   ],
   "source": [
    "#18. Írassa ki városonként az összbevételt és nyereséget.\n",
    "varosonkenti_osszesito = df.groupby('Bolt város')[['Bevétel', 'Nyereség']].sum()\n",
    "print(varosonkenti_osszesito)"
   ]
  },
  {
   "cell_type": "code",
   "execution_count": 65,
   "id": "d652e8e4-83f9-41bb-8c98-ea1bbde5df5a",
   "metadata": {
    "tags": []
   },
   "outputs": [
    {
     "name": "stdout",
     "output_type": "stream",
     "text": [
      "Megye  Kategórianév\n",
      "Heves  Iroda           26235776.0\n",
      "       Játék           17940288.0\n",
      "       Kert            31764032.0\n",
      "Pest   Iroda            7989376.0\n",
      "       Játék            9959360.0\n",
      "       Kert            13953664.0\n",
      "Name: Költség, dtype: float64\n"
     ]
    }
   ],
   "source": [
    "#19. Írassa ki megyénként, azon belül kategóriánként a költségeket.\n",
    "megye_kategoriak_koltsegei = df.groupby(['Megye', 'Kategórianév'])['Költség'].sum()\n",
    "print(megye_kategoriak_koltsegei)"
   ]
  },
  {
   "cell_type": "code",
   "execution_count": 67,
   "id": "8267e6f9-08ef-4559-a814-74bb5bcec425",
   "metadata": {
    "tags": []
   },
   "outputs": [
    {
     "name": "stdout",
     "output_type": "stream",
     "text": [
      "        Dátum Kategórianév Terméknév  Mennyiség  Bevétel   Költség  Nyereség  \\\n",
      "30 2015-04-27        Iroda    Ceruza       2000   600000  480000.0  120000.0   \n",
      "\n",
      "      Vevőnév  Megye Bolt város Boltnév        Ország Vevő  \n",
      "30  Kovács Bt  Heves     Hatvan  1. ABC  Magyarország  NaN          Dátum Kategórianév Terméknév  Mennyiség  Bevétel   Költség  Nyereség  \\\n",
      "4 2015-01-23        Játék     Labda        300   150000  120000.0   30000.0   \n",
      "\n",
      "    Vevőnév  Megye Bolt város Boltnév        Ország Vevő  \n",
      "4  Nagy Kft  Heves   Gyöngyös  1. ABC  Magyarország  NaN  \n",
      "Kategórianév\n",
      "Iroda    30250000\n",
      "Játék    21210000\n",
      "Kert     38000000\n",
      "Name: Bevétel, dtype: int64\n"
     ]
    }
   ],
   "source": [
    "#20. Készítsen egy táblát a Heves megyei eladásokról. Melyik termékből volt a legnagyobb és legkisebb összmennyiségi eladás. A Vevők kategóriánként mennyit költöttek a boltokban?\n",
    "heves_eladasok = df[df['Megye'] == 'Heves']\n",
    "legnagyobb_eladas = heves_eladasok.nlargest(1, 'Mennyiség')\n",
    "legkisebb_eladas = heves_eladasok.nsmallest(1, 'Mennyiség')\n",
    "print(legnagyobb_eladas, legkisebb_eladas)\n",
    "vevok_kategoria_koltesei = heves_eladasok.groupby('Kategórianév')['Bevétel'].sum()\n",
    "print(vevok_kategoria_koltesei)"
   ]
  },
  {
   "cell_type": "code",
   "execution_count": null,
   "id": "6bf30ef0-d151-4201-9d64-ac29b77d4fcc",
   "metadata": {},
   "outputs": [],
   "source": []
  }
 ],
 "metadata": {
  "kernelspec": {
   "display_name": "Python 3 (ipykernel)",
   "language": "python",
   "name": "python3"
  },
  "language_info": {
   "codemirror_mode": {
    "name": "ipython",
    "version": 3
   },
   "file_extension": ".py",
   "mimetype": "text/x-python",
   "name": "python",
   "nbconvert_exporter": "python",
   "pygments_lexer": "ipython3",
   "version": "3.11.5"
  }
 },
 "nbformat": 4,
 "nbformat_minor": 5
}
